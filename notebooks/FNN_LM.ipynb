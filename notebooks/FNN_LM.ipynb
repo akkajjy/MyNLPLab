{
  "nbformat": 4,
  "nbformat_minor": 0,
  "metadata": {
    "colab": {
      "provenance": [],
      "authorship_tag": "ABX9TyPVIb8DYI4es+OWuDRg9GSo",
      "include_colab_link": true
    },
    "kernelspec": {
      "name": "python3",
      "display_name": "Python 3"
    },
    "language_info": {
      "name": "python"
    }
  },
  "cells": [
    {
      "cell_type": "markdown",
      "metadata": {
        "id": "view-in-github",
        "colab_type": "text"
      },
      "source": [
        "<a href=\"https://colab.research.google.com/github/akkajjy/MyNLPLab/blob/main/notebooks/FNN_LM.ipynb\" target=\"_parent\"><img src=\"https://colab.research.google.com/assets/colab-badge.svg\" alt=\"Open In Colab\"/></a>"
      ]
    },
    {
      "cell_type": "code",
      "execution_count": 1,
      "metadata": {
        "colab": {
          "base_uri": "https://localhost:8080/"
        },
        "id": "6CeU82BTFcld",
        "outputId": "25183be7-ee91-4b29-9a78-058db468cc7a"
      },
      "outputs": [
        {
          "output_type": "stream",
          "name": "stdout",
          "text": [
            "Epoch 20, Loss: 0.0915362480598943\n",
            "Epoch 40, Loss: 0.08357786580515829\n",
            "Epoch 60, Loss: 0.08068465938374988\n",
            "Epoch 80, Loss: 0.07927913056750856\n",
            "Epoch 100, Loss: 0.07845911908761512\n",
            "Generated text: the cat is running. the dog is barking. a cat\n"
          ]
        }
      ],
      "source": [
        "import torch\n",
        "import torch.nn as nn\n",
        "import torch.optim as optim\n",
        "from collections import Counter\n",
        "import random\n",
        "\n",
        "# 准备数据\n",
        "corpus = \"\"\"\n",
        "The cat is running. The dog is barking. A cat jumps high.\n",
        "The dog runs fast. Cats and dogs play together.\n",
        "\"\"\".lower().split()\n",
        "vocab = list(set(corpus))\n",
        "word_to_idx = {w: i for i, w in enumerate(vocab)}\n",
        "idx_to_word = {i: w for i, w in enumerate(vocab)}\n",
        "\n",
        "# 生成训练对（窗口大小=2）\n",
        "window_size = 2\n",
        "training_data = []\n",
        "for i in range(window_size, len(corpus)):\n",
        "    context = [word_to_idx[corpus[i-j]] for j in range(window_size, 0, -1)]\n",
        "    target = word_to_idx[corpus[i]]\n",
        "    training_data.append((context, target))\n",
        "\n",
        "# 定义模型\n",
        "class NeuralLM(nn.Module):\n",
        "    def __init__(self, vocab_size, embed_dim, hidden_dim, window_size):\n",
        "        super(NeuralLM, self).__init__()\n",
        "        self.embed = nn.Embedding(vocab_size, embed_dim)\n",
        "        self.fc1 = nn.Linear(window_size * embed_dim, hidden_dim)\n",
        "        self.relu = nn.ReLU()\n",
        "        self.fc2 = nn.Linear(hidden_dim, vocab_size)\n",
        "\n",
        "    def forward(self, x):\n",
        "        x = self.embed(x)  # [batch, window_size, embed_dim]\n",
        "        x = x.view(x.size(0), -1)  # [batch, window_size * embed_dim]\n",
        "        x = self.fc1(x)  # [batch, hidden_dim]\n",
        "        x = self.relu(x)\n",
        "        x = self.fc2(x)  # [batch, vocab_size]\n",
        "        return x\n",
        "\n",
        "# 参数\n",
        "vocab_size = len(vocab)\n",
        "embed_dim = 10\n",
        "hidden_dim = 20\n",
        "model = NeuralLM(vocab_size, embed_dim, hidden_dim, window_size)\n",
        "criterion = nn.CrossEntropyLoss()\n",
        "optimizer = optim.Adam(model.parameters(), lr=0.01)\n",
        "\n",
        "# 训练\n",
        "epochs = 100\n",
        "for epoch in range(epochs):\n",
        "    total_loss = 0\n",
        "    for context, target in training_data:\n",
        "        context = torch.tensor(context, dtype=torch.long)\n",
        "        target = torch.tensor(target, dtype=torch.long)\n",
        "        optimizer.zero_grad()\n",
        "        output = model(context.unsqueeze(0))  # Add batch dimension\n",
        "        loss = criterion(output, target.unsqueeze(0))\n",
        "        loss.backward()\n",
        "        optimizer.step()\n",
        "        total_loss += loss.item()\n",
        "    if (epoch + 1) % 20 == 0:\n",
        "        print(f\"Epoch {epoch+1}, Loss: {total_loss / len(training_data)}\")\n",
        "\n",
        "# 生成文本\n",
        "def generate_text(model, start_context, max_length=10):\n",
        "    model.eval()\n",
        "    context = [word_to_idx[w] for w in start_context]\n",
        "    result = start_context[:]\n",
        "    with torch.no_grad():\n",
        "        for _ in range(max_length - len(start_context)):\n",
        "            context_tensor = torch.tensor(context[-window_size:], dtype=torch.long)\n",
        "            output = model(context_tensor.unsqueeze(0))\n",
        "            probs = torch.softmax(output, dim=1).squeeze()\n",
        "            next_idx = torch.multinomial(probs, 1).item()\n",
        "            result.append(idx_to_word[next_idx])\n",
        "            context.append(next_idx)\n",
        "    return ' '.join(result)\n",
        "\n",
        "# 测试\n",
        "start_context = ['the', 'cat']\n",
        "print(\"Generated text:\", generate_text(model, start_context))"
      ]
    }
  ]
}